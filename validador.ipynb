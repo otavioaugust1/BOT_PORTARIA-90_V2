{
 "cells": [
  {
   "cell_type": "code",
   "execution_count": null,
   "metadata": {},
   "outputs": [],
   "source": [
    "# TRATAMENTO DOS DADOS DO CNES, SIGTAP E TETO\n",
    "## Autor: Otávio Augusto dos Santos\n",
    "## Data: 2024-01-13\n",
    "\n",
    "## Versão: 0.0.1\n",
    "## Descrição: Bot de analise de dados na planilha de proposto (PLANO)\n",
    "## Entrada: Planilha de proposto (PLANO)\n",
    "## Saída: Relatório de inconsistências\n",
    "## Observações:\n",
    "## 1. O arquivo de entrada deve estar na pasta PLANILHA \n",
    "## 2. O arquivo de saída será gerado na pasta RESULTADOS\n",
    "## 3. O arquivo de saída será salvo 2 Arquivos: TXT e XLSX"
   ]
  },
  {
   "cell_type": "code",
   "execution_count": 1,
   "metadata": {},
   "outputs": [],
   "source": [
    "# Importação das bibliotecas\n",
    "import pandas as pd         # importando a biblioteca pandas\n",
    "import numpy as np          # importando a biblioteca numpy\n",
    "import time                 # importando a biblioteca time\n",
    "import glob                 # importando a biblioteca glob\n",
    "import os                   # importando a biblioteca os\n",
    "import xlsxwriter           # importando a biblioteca xlsxwriter\n",
    "import pyexcel as pe        # importando a biblioteca pyexcel\n",
    "import locale               # importando a biblioteca locale\n",
    "import math                 # importando a biblioteca math\n",
    "import warnings\n",
    "warnings.filterwarnings(\"ignore\") \n",
    "\n",
    "locale.setlocale(locale.LC_ALL, 'pt_BR.UTF-8') # Definindo o locale para pt_BR\n",
    "tempo_inicial = time.time() # tempo inicial para calcular o tempo de execução do código\n",
    "\n",
    "from glob import glob # Utilizado para listar arquivos de um diretório\n",
    "from datetime import datetime # Utilizado para trabalhar com datas\n",
    "\n",
    "#Comando para exibir todas colunas do arquivo\n",
    "pd.set_option('display.max_columns', None)\n",
    "pd.set_option('display.max_rows', None)"
   ]
  },
  {
   "cell_type": "code",
   "execution_count": 3,
   "metadata": {},
   "outputs": [],
   "source": [
    "# Importação da PLANILHA\n",
    "## Analisando e tratamento da PLANILHA aba 1\n",
    "df_planilha = glob('PLANILHA\\*.xls*')[0] # Planilha para ser validada"
   ]
  },
  {
   "cell_type": "code",
   "execution_count": null,
   "metadata": {},
   "outputs": [],
   "source": []
  }
 ],
 "metadata": {
  "kernelspec": {
   "display_name": "portaria90",
   "language": "python",
   "name": "python3"
  },
  "language_info": {
   "codemirror_mode": {
    "name": "ipython",
    "version": 3
   },
   "file_extension": ".py",
   "mimetype": "text/x-python",
   "name": "python",
   "nbconvert_exporter": "python",
   "pygments_lexer": "ipython3",
   "version": "3.10.11"
  }
 },
 "nbformat": 4,
 "nbformat_minor": 2
}
